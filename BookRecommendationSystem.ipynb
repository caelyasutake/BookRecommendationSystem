{
 "cells": [
  {
   "cell_type": "code",
   "execution_count": 3,
   "metadata": {
    "collapsed": true
   },
   "outputs": [],
   "source": [
    "import pandas as pd"
   ]
  },
  {
   "cell_type": "code",
   "execution_count": 4,
   "outputs": [],
   "source": [
    "my_books = pd.read_csv(\"liked_books.csv\", index_col=0)"
   ],
   "metadata": {
    "collapsed": false
   }
  },
  {
   "cell_type": "code",
   "execution_count": 5,
   "outputs": [
    {
     "data": {
      "text/plain": "     user_id   book_id  rating  \\\n0         -1   2517439       5   \n1         -1    113576       5   \n2         -1     35100       5   \n3         -1    228221       5   \n5         -1  17662739       5   \n6         -1    356824       5   \n7         -1  12125412       5   \n8         -1    139069       5   \n10        -1     76680       5   \n11        -1      1898       5   \n12        -1   5096865       5   \n13        -1    228665       5   \n17        -1    437143       5   \n18        -1  18949861       5   \n19        -1   2913377       5   \n20        -1   1215032       5   \n21        -1    883438       5   \n22        -1   5578108       5   \n23        -1    128029       5   \n24        -1     77203       5   \n25        -1      5439       5   \n26        -1   1685995       5   \n27        -1   6448772       5   \n527       -1   8161140       1   \n528       -1     28187       1   \n531       -1  25659450       1   \n532       -1     82599       1   \n\n                                                 title  \n0               The Forever War  (The Forever War, #1)  \n1    The Smartest Guys in the Room: The Amazing Ris...  \n2                                Battle Cry of Freedom  \n3                                  The Mask of Command  \n5           2001: A Space Odyssey  (Space Odyssey, #1)  \n6    India After Gandhi: The History of the World's...  \n7      The Lady or the Tiger?: and Other Logic Puzzles  \n8            Endurance: Shackleton's Incredible Voyage  \n10                        Foundation  (Foundation, #1)  \n11   Into Thin Air: A Personal Account of the Mount...  \n12                                       In Cold Blood  \n13       The Eye of the World  (The Wheel of Time, #1)  \n17                A Short History of Nearly Everything  \n18                                             Contact  \n19   The Name of the Wind  (The Kingkiller Chronicl...  \n20   The Wise Man's Fear  (The Kingkiller Chronicle...  \n21                                        East of Eden  \n22   From Colony to Superpower: U.S. Foreign Relati...  \n23                            A Thousand Splendid Suns  \n24                                     The Kite Runner  \n25                             Interpreter of Maladies  \n26                                     Dune  (Dune #1)  \n27   Quantum: Einstein, Bohr, and the Great Debate ...  \n527                                       On the Beach  \n528  The Lightning Thief  (Percy Jackson and the Ol...  \n531                                          Arkwright  \n532                                   Rabbits: A Novel  ",
      "text/html": "<div>\n<style scoped>\n    .dataframe tbody tr th:only-of-type {\n        vertical-align: middle;\n    }\n\n    .dataframe tbody tr th {\n        vertical-align: top;\n    }\n\n    .dataframe thead th {\n        text-align: right;\n    }\n</style>\n<table border=\"1\" class=\"dataframe\">\n  <thead>\n    <tr style=\"text-align: right;\">\n      <th></th>\n      <th>user_id</th>\n      <th>book_id</th>\n      <th>rating</th>\n      <th>title</th>\n    </tr>\n  </thead>\n  <tbody>\n    <tr>\n      <th>0</th>\n      <td>-1</td>\n      <td>2517439</td>\n      <td>5</td>\n      <td>The Forever War  (The Forever War, #1)</td>\n    </tr>\n    <tr>\n      <th>1</th>\n      <td>-1</td>\n      <td>113576</td>\n      <td>5</td>\n      <td>The Smartest Guys in the Room: The Amazing Ris...</td>\n    </tr>\n    <tr>\n      <th>2</th>\n      <td>-1</td>\n      <td>35100</td>\n      <td>5</td>\n      <td>Battle Cry of Freedom</td>\n    </tr>\n    <tr>\n      <th>3</th>\n      <td>-1</td>\n      <td>228221</td>\n      <td>5</td>\n      <td>The Mask of Command</td>\n    </tr>\n    <tr>\n      <th>5</th>\n      <td>-1</td>\n      <td>17662739</td>\n      <td>5</td>\n      <td>2001: A Space Odyssey  (Space Odyssey, #1)</td>\n    </tr>\n    <tr>\n      <th>6</th>\n      <td>-1</td>\n      <td>356824</td>\n      <td>5</td>\n      <td>India After Gandhi: The History of the World's...</td>\n    </tr>\n    <tr>\n      <th>7</th>\n      <td>-1</td>\n      <td>12125412</td>\n      <td>5</td>\n      <td>The Lady or the Tiger?: and Other Logic Puzzles</td>\n    </tr>\n    <tr>\n      <th>8</th>\n      <td>-1</td>\n      <td>139069</td>\n      <td>5</td>\n      <td>Endurance: Shackleton's Incredible Voyage</td>\n    </tr>\n    <tr>\n      <th>10</th>\n      <td>-1</td>\n      <td>76680</td>\n      <td>5</td>\n      <td>Foundation  (Foundation, #1)</td>\n    </tr>\n    <tr>\n      <th>11</th>\n      <td>-1</td>\n      <td>1898</td>\n      <td>5</td>\n      <td>Into Thin Air: A Personal Account of the Mount...</td>\n    </tr>\n    <tr>\n      <th>12</th>\n      <td>-1</td>\n      <td>5096865</td>\n      <td>5</td>\n      <td>In Cold Blood</td>\n    </tr>\n    <tr>\n      <th>13</th>\n      <td>-1</td>\n      <td>228665</td>\n      <td>5</td>\n      <td>The Eye of the World  (The Wheel of Time, #1)</td>\n    </tr>\n    <tr>\n      <th>17</th>\n      <td>-1</td>\n      <td>437143</td>\n      <td>5</td>\n      <td>A Short History of Nearly Everything</td>\n    </tr>\n    <tr>\n      <th>18</th>\n      <td>-1</td>\n      <td>18949861</td>\n      <td>5</td>\n      <td>Contact</td>\n    </tr>\n    <tr>\n      <th>19</th>\n      <td>-1</td>\n      <td>2913377</td>\n      <td>5</td>\n      <td>The Name of the Wind  (The Kingkiller Chronicl...</td>\n    </tr>\n    <tr>\n      <th>20</th>\n      <td>-1</td>\n      <td>1215032</td>\n      <td>5</td>\n      <td>The Wise Man's Fear  (The Kingkiller Chronicle...</td>\n    </tr>\n    <tr>\n      <th>21</th>\n      <td>-1</td>\n      <td>883438</td>\n      <td>5</td>\n      <td>East of Eden</td>\n    </tr>\n    <tr>\n      <th>22</th>\n      <td>-1</td>\n      <td>5578108</td>\n      <td>5</td>\n      <td>From Colony to Superpower: U.S. Foreign Relati...</td>\n    </tr>\n    <tr>\n      <th>23</th>\n      <td>-1</td>\n      <td>128029</td>\n      <td>5</td>\n      <td>A Thousand Splendid Suns</td>\n    </tr>\n    <tr>\n      <th>24</th>\n      <td>-1</td>\n      <td>77203</td>\n      <td>5</td>\n      <td>The Kite Runner</td>\n    </tr>\n    <tr>\n      <th>25</th>\n      <td>-1</td>\n      <td>5439</td>\n      <td>5</td>\n      <td>Interpreter of Maladies</td>\n    </tr>\n    <tr>\n      <th>26</th>\n      <td>-1</td>\n      <td>1685995</td>\n      <td>5</td>\n      <td>Dune  (Dune #1)</td>\n    </tr>\n    <tr>\n      <th>27</th>\n      <td>-1</td>\n      <td>6448772</td>\n      <td>5</td>\n      <td>Quantum: Einstein, Bohr, and the Great Debate ...</td>\n    </tr>\n    <tr>\n      <th>527</th>\n      <td>-1</td>\n      <td>8161140</td>\n      <td>1</td>\n      <td>On the Beach</td>\n    </tr>\n    <tr>\n      <th>528</th>\n      <td>-1</td>\n      <td>28187</td>\n      <td>1</td>\n      <td>The Lightning Thief  (Percy Jackson and the Ol...</td>\n    </tr>\n    <tr>\n      <th>531</th>\n      <td>-1</td>\n      <td>25659450</td>\n      <td>1</td>\n      <td>Arkwright</td>\n    </tr>\n    <tr>\n      <th>532</th>\n      <td>-1</td>\n      <td>82599</td>\n      <td>1</td>\n      <td>Rabbits: A Novel</td>\n    </tr>\n  </tbody>\n</table>\n</div>"
     },
     "execution_count": 5,
     "metadata": {},
     "output_type": "execute_result"
    }
   ],
   "source": [
    "my_books"
   ],
   "metadata": {
    "collapsed": false
   }
  },
  {
   "cell_type": "code",
   "execution_count": 6,
   "outputs": [],
   "source": [
    "my_books[\"book_id\"] = my_books['book_id'].astype(str)"
   ],
   "metadata": {
    "collapsed": false
   }
  },
  {
   "cell_type": "code",
   "execution_count": 7,
   "outputs": [],
   "source": [
    "csv_book_mapping = {}\n",
    "\n",
    "with open(\"book_id_map.csv\", \"r\") as f:\n",
    "    while True:\n",
    "        line = f.readline()\n",
    "        if not line:\n",
    "            break\n",
    "        csv_id, book_id = line.strip().split(\",\")\n",
    "        csv_book_mapping[csv_id] = book_id"
   ],
   "metadata": {
    "collapsed": false
   }
  },
  {
   "cell_type": "code",
   "execution_count": 8,
   "outputs": [],
   "source": [
    "book_set = set(my_books[\"book_id\"])"
   ],
   "metadata": {
    "collapsed": false
   }
  },
  {
   "cell_type": "code",
   "execution_count": 9,
   "outputs": [],
   "source": [
    "overlap_users = {}\n",
    "\n",
    "with open(\"goodreads_interactions.csv.crdownload\") as f:\n",
    "    while True:\n",
    "        line = f.readline()\n",
    "        if not line:\n",
    "            break\n",
    "        try:\n",
    "            user_id, csv_id, _, rating, _ = line.strip().split(\",\")\n",
    "\n",
    "            book_id = csv_book_mapping.get(csv_id)\n",
    "            if book_id in book_set:\n",
    "                if user_id not in overlap_users:\n",
    "                    overlap_users[user_id] = 1\n",
    "                else:\n",
    "                    overlap_users[user_id] += 1\n",
    "        except ValueError:\n",
    "            continue"
   ],
   "metadata": {
    "collapsed": false
   }
  },
  {
   "cell_type": "code",
   "execution_count": 10,
   "outputs": [
    {
     "data": {
      "text/plain": "192601"
     },
     "execution_count": 10,
     "metadata": {},
     "output_type": "execute_result"
    }
   ],
   "source": [
    "len(overlap_users)"
   ],
   "metadata": {
    "collapsed": false
   }
  },
  {
   "cell_type": "code",
   "execution_count": 11,
   "outputs": [],
   "source": [
    "filtered_overlap_users = set([k for k in overlap_users if overlap_users[k] > my_books.shape[0]/5])"
   ],
   "metadata": {
    "collapsed": false
   }
  },
  {
   "cell_type": "code",
   "execution_count": 12,
   "outputs": [],
   "source": [
    "interactions_list = []\n",
    "\n",
    "with open(\"goodreads_interactions.csv.crdownload\") as f:\n",
    "    while True:\n",
    "        line = f.readline()\n",
    "        if not line:\n",
    "            break\n",
    "\n",
    "        try:\n",
    "            user_id, csv_id, _, rating, _ = line.strip().split(\",\")\n",
    "            if user_id in filtered_overlap_users:\n",
    "                books_id = csv_book_mapping[csv_id]\n",
    "                interactions_list.append([user_id, book_id, rating])\n",
    "        except ValueError:\n",
    "            continue"
   ],
   "metadata": {
    "collapsed": false
   }
  },
  {
   "cell_type": "code",
   "execution_count": 13,
   "outputs": [
    {
     "data": {
      "text/plain": "4578250"
     },
     "execution_count": 13,
     "metadata": {},
     "output_type": "execute_result"
    }
   ],
   "source": [
    "len(interactions_list)"
   ],
   "metadata": {
    "collapsed": false
   }
  },
  {
   "cell_type": "code",
   "execution_count": 14,
   "outputs": [
    {
     "data": {
      "text/plain": "['282', '6936382', '4']"
     },
     "execution_count": 14,
     "metadata": {},
     "output_type": "execute_result"
    }
   ],
   "source": [
    "interactions_list[0]"
   ],
   "metadata": {
    "collapsed": false
   }
  },
  {
   "cell_type": "code",
   "execution_count": 15,
   "outputs": [],
   "source": [
    "interactions = pd.DataFrame(interactions_list, columns=[\"user_id\", \"book_id\", \"rating\"])"
   ],
   "metadata": {
    "collapsed": false
   }
  },
  {
   "cell_type": "code",
   "execution_count": 16,
   "outputs": [],
   "source": [
    "interactions = pd.concat([my_books[[\"user_id\", \"book_id\", \"rating\"]], interactions])"
   ],
   "metadata": {
    "collapsed": false
   }
  },
  {
   "cell_type": "code",
   "execution_count": 17,
   "outputs": [
    {
     "data": {
      "text/plain": "        user_id   book_id rating\n0            -1   2517439      5\n1            -1    113576      5\n2            -1     35100      5\n3            -1    228221      5\n5            -1  17662739      5\n...         ...       ...    ...\n4578245  361921   6936382      0\n4578246  361921   6936382      0\n4578247  361921   6936382      0\n4578248  361921   6936382      0\n4578249  361921   6936382      0\n\n[4578277 rows x 3 columns]",
      "text/html": "<div>\n<style scoped>\n    .dataframe tbody tr th:only-of-type {\n        vertical-align: middle;\n    }\n\n    .dataframe tbody tr th {\n        vertical-align: top;\n    }\n\n    .dataframe thead th {\n        text-align: right;\n    }\n</style>\n<table border=\"1\" class=\"dataframe\">\n  <thead>\n    <tr style=\"text-align: right;\">\n      <th></th>\n      <th>user_id</th>\n      <th>book_id</th>\n      <th>rating</th>\n    </tr>\n  </thead>\n  <tbody>\n    <tr>\n      <th>0</th>\n      <td>-1</td>\n      <td>2517439</td>\n      <td>5</td>\n    </tr>\n    <tr>\n      <th>1</th>\n      <td>-1</td>\n      <td>113576</td>\n      <td>5</td>\n    </tr>\n    <tr>\n      <th>2</th>\n      <td>-1</td>\n      <td>35100</td>\n      <td>5</td>\n    </tr>\n    <tr>\n      <th>3</th>\n      <td>-1</td>\n      <td>228221</td>\n      <td>5</td>\n    </tr>\n    <tr>\n      <th>5</th>\n      <td>-1</td>\n      <td>17662739</td>\n      <td>5</td>\n    </tr>\n    <tr>\n      <th>...</th>\n      <td>...</td>\n      <td>...</td>\n      <td>...</td>\n    </tr>\n    <tr>\n      <th>4578245</th>\n      <td>361921</td>\n      <td>6936382</td>\n      <td>0</td>\n    </tr>\n    <tr>\n      <th>4578246</th>\n      <td>361921</td>\n      <td>6936382</td>\n      <td>0</td>\n    </tr>\n    <tr>\n      <th>4578247</th>\n      <td>361921</td>\n      <td>6936382</td>\n      <td>0</td>\n    </tr>\n    <tr>\n      <th>4578248</th>\n      <td>361921</td>\n      <td>6936382</td>\n      <td>0</td>\n    </tr>\n    <tr>\n      <th>4578249</th>\n      <td>361921</td>\n      <td>6936382</td>\n      <td>0</td>\n    </tr>\n  </tbody>\n</table>\n<p>4578277 rows × 3 columns</p>\n</div>"
     },
     "execution_count": 17,
     "metadata": {},
     "output_type": "execute_result"
    }
   ],
   "source": [
    "interactions"
   ],
   "metadata": {
    "collapsed": false
   }
  },
  {
   "cell_type": "code",
   "execution_count": 18,
   "outputs": [],
   "source": [
    "interactions['book_id'] = interactions['book_id'].astype(str)\n",
    "interactions['user_id'] = interactions['user_id'].astype(str)\n",
    "interactions['rating'] = pd.to_numeric(interactions['rating'])"
   ],
   "metadata": {
    "collapsed": false
   }
  },
  {
   "cell_type": "code",
   "execution_count": 19,
   "outputs": [
    {
     "data": {
      "text/plain": "array(['-1', '282', '874', ..., '360934', '361563', '361921'],\n      dtype=object)"
     },
     "execution_count": 19,
     "metadata": {},
     "output_type": "execute_result"
    }
   ],
   "source": [
    "interactions['user_id'].unique()"
   ],
   "metadata": {
    "collapsed": false
   }
  },
  {
   "cell_type": "code",
   "execution_count": 20,
   "outputs": [],
   "source": [
    "interactions['user_index'] = interactions['user_id'].astype('category').cat.codes"
   ],
   "metadata": {
    "collapsed": false
   }
  },
  {
   "cell_type": "code",
   "execution_count": 21,
   "outputs": [
    {
     "data": {
      "text/plain": "user_id            -1\nbook_id       2517439\nrating              5\nuser_index          0\nName: 0, dtype: object"
     },
     "execution_count": 21,
     "metadata": {},
     "output_type": "execute_result"
    }
   ],
   "source": [
    "interactions.iloc[0]"
   ],
   "metadata": {
    "collapsed": false
   }
  },
  {
   "cell_type": "code",
   "execution_count": 22,
   "outputs": [],
   "source": [
    "interactions['book_index'] = interactions['book_id'].astype('category').cat.codes"
   ],
   "metadata": {
    "collapsed": false
   }
  },
  {
   "cell_type": "code",
   "execution_count": 23,
   "outputs": [
    {
     "data": {
      "text/plain": "28"
     },
     "execution_count": 23,
     "metadata": {},
     "output_type": "execute_result"
    }
   ],
   "source": [
    "len(interactions['book_index'].unique())"
   ],
   "metadata": {
    "collapsed": false
   }
  },
  {
   "cell_type": "code",
   "execution_count": 24,
   "outputs": [],
   "source": [
    "from scipy.sparse import coo_matrix"
   ],
   "metadata": {
    "collapsed": false
   }
  },
  {
   "cell_type": "code",
   "execution_count": 25,
   "outputs": [],
   "source": [
    "ratings_mat_coo = coo_matrix((interactions['rating'], (interactions['user_index'], interactions['book_index'])))"
   ],
   "metadata": {
    "collapsed": false
   }
  },
  {
   "cell_type": "code",
   "execution_count": 26,
   "outputs": [
    {
     "data": {
      "text/plain": "<1019x28 sparse matrix of type '<class 'numpy.int64'>'\n\twith 4578277 stored elements in COOrdinate format>"
     },
     "execution_count": 26,
     "metadata": {},
     "output_type": "execute_result"
    }
   ],
   "source": [
    "ratings_mat_coo"
   ],
   "metadata": {
    "collapsed": false
   }
  },
  {
   "cell_type": "code",
   "execution_count": 27,
   "outputs": [],
   "source": [
    "ratings_mat = ratings_mat_coo.tocsr()"
   ],
   "metadata": {
    "collapsed": false
   }
  },
  {
   "cell_type": "code",
   "execution_count": 28,
   "outputs": [
    {
     "data": {
      "text/plain": "    user_id   book_id  rating  user_index  book_index\n0        -1   2517439       5           0          11\n1        -1    113576       5           0           0\n2        -1     35100       5           0          15\n3        -1    228221       5           0           9\n5        -1  17662739       5           0           6\n6        -1    356824       5           0          16\n7        -1  12125412       5           0           1\n8        -1    139069       5           0           4\n10       -1     76680       5           0          23\n11       -1      1898       5           0           8\n12       -1   5096865       5           0          18\n13       -1    228665       5           0          10\n17       -1    437143       5           0          17\n18       -1  18949861       5           0           7\n19       -1   2913377       5           0          14\n20       -1   1215032       5           0           2\n21       -1    883438       5           0          27\n22       -1   5578108       5           0          20\n23       -1    128029       5           0           3\n24       -1     77203       5           0          24\n25       -1      5439       5           0          19\n26       -1   1685995       5           0           5\n27       -1   6448772       5           0          21\n527      -1   8161140       1           0          25\n528      -1     28187       1           0          13\n531      -1  25659450       1           0          12\n532      -1     82599       1           0          26",
      "text/html": "<div>\n<style scoped>\n    .dataframe tbody tr th:only-of-type {\n        vertical-align: middle;\n    }\n\n    .dataframe tbody tr th {\n        vertical-align: top;\n    }\n\n    .dataframe thead th {\n        text-align: right;\n    }\n</style>\n<table border=\"1\" class=\"dataframe\">\n  <thead>\n    <tr style=\"text-align: right;\">\n      <th></th>\n      <th>user_id</th>\n      <th>book_id</th>\n      <th>rating</th>\n      <th>user_index</th>\n      <th>book_index</th>\n    </tr>\n  </thead>\n  <tbody>\n    <tr>\n      <th>0</th>\n      <td>-1</td>\n      <td>2517439</td>\n      <td>5</td>\n      <td>0</td>\n      <td>11</td>\n    </tr>\n    <tr>\n      <th>1</th>\n      <td>-1</td>\n      <td>113576</td>\n      <td>5</td>\n      <td>0</td>\n      <td>0</td>\n    </tr>\n    <tr>\n      <th>2</th>\n      <td>-1</td>\n      <td>35100</td>\n      <td>5</td>\n      <td>0</td>\n      <td>15</td>\n    </tr>\n    <tr>\n      <th>3</th>\n      <td>-1</td>\n      <td>228221</td>\n      <td>5</td>\n      <td>0</td>\n      <td>9</td>\n    </tr>\n    <tr>\n      <th>5</th>\n      <td>-1</td>\n      <td>17662739</td>\n      <td>5</td>\n      <td>0</td>\n      <td>6</td>\n    </tr>\n    <tr>\n      <th>6</th>\n      <td>-1</td>\n      <td>356824</td>\n      <td>5</td>\n      <td>0</td>\n      <td>16</td>\n    </tr>\n    <tr>\n      <th>7</th>\n      <td>-1</td>\n      <td>12125412</td>\n      <td>5</td>\n      <td>0</td>\n      <td>1</td>\n    </tr>\n    <tr>\n      <th>8</th>\n      <td>-1</td>\n      <td>139069</td>\n      <td>5</td>\n      <td>0</td>\n      <td>4</td>\n    </tr>\n    <tr>\n      <th>10</th>\n      <td>-1</td>\n      <td>76680</td>\n      <td>5</td>\n      <td>0</td>\n      <td>23</td>\n    </tr>\n    <tr>\n      <th>11</th>\n      <td>-1</td>\n      <td>1898</td>\n      <td>5</td>\n      <td>0</td>\n      <td>8</td>\n    </tr>\n    <tr>\n      <th>12</th>\n      <td>-1</td>\n      <td>5096865</td>\n      <td>5</td>\n      <td>0</td>\n      <td>18</td>\n    </tr>\n    <tr>\n      <th>13</th>\n      <td>-1</td>\n      <td>228665</td>\n      <td>5</td>\n      <td>0</td>\n      <td>10</td>\n    </tr>\n    <tr>\n      <th>17</th>\n      <td>-1</td>\n      <td>437143</td>\n      <td>5</td>\n      <td>0</td>\n      <td>17</td>\n    </tr>\n    <tr>\n      <th>18</th>\n      <td>-1</td>\n      <td>18949861</td>\n      <td>5</td>\n      <td>0</td>\n      <td>7</td>\n    </tr>\n    <tr>\n      <th>19</th>\n      <td>-1</td>\n      <td>2913377</td>\n      <td>5</td>\n      <td>0</td>\n      <td>14</td>\n    </tr>\n    <tr>\n      <th>20</th>\n      <td>-1</td>\n      <td>1215032</td>\n      <td>5</td>\n      <td>0</td>\n      <td>2</td>\n    </tr>\n    <tr>\n      <th>21</th>\n      <td>-1</td>\n      <td>883438</td>\n      <td>5</td>\n      <td>0</td>\n      <td>27</td>\n    </tr>\n    <tr>\n      <th>22</th>\n      <td>-1</td>\n      <td>5578108</td>\n      <td>5</td>\n      <td>0</td>\n      <td>20</td>\n    </tr>\n    <tr>\n      <th>23</th>\n      <td>-1</td>\n      <td>128029</td>\n      <td>5</td>\n      <td>0</td>\n      <td>3</td>\n    </tr>\n    <tr>\n      <th>24</th>\n      <td>-1</td>\n      <td>77203</td>\n      <td>5</td>\n      <td>0</td>\n      <td>24</td>\n    </tr>\n    <tr>\n      <th>25</th>\n      <td>-1</td>\n      <td>5439</td>\n      <td>5</td>\n      <td>0</td>\n      <td>19</td>\n    </tr>\n    <tr>\n      <th>26</th>\n      <td>-1</td>\n      <td>1685995</td>\n      <td>5</td>\n      <td>0</td>\n      <td>5</td>\n    </tr>\n    <tr>\n      <th>27</th>\n      <td>-1</td>\n      <td>6448772</td>\n      <td>5</td>\n      <td>0</td>\n      <td>21</td>\n    </tr>\n    <tr>\n      <th>527</th>\n      <td>-1</td>\n      <td>8161140</td>\n      <td>1</td>\n      <td>0</td>\n      <td>25</td>\n    </tr>\n    <tr>\n      <th>528</th>\n      <td>-1</td>\n      <td>28187</td>\n      <td>1</td>\n      <td>0</td>\n      <td>13</td>\n    </tr>\n    <tr>\n      <th>531</th>\n      <td>-1</td>\n      <td>25659450</td>\n      <td>1</td>\n      <td>0</td>\n      <td>12</td>\n    </tr>\n    <tr>\n      <th>532</th>\n      <td>-1</td>\n      <td>82599</td>\n      <td>1</td>\n      <td>0</td>\n      <td>26</td>\n    </tr>\n  </tbody>\n</table>\n</div>"
     },
     "execution_count": 28,
     "metadata": {},
     "output_type": "execute_result"
    }
   ],
   "source": [
    "interactions[interactions['user_id'] == '-1']"
   ],
   "metadata": {
    "collapsed": false
   }
  },
  {
   "cell_type": "code",
   "execution_count": 29,
   "outputs": [],
   "source": [
    "my_index = 0"
   ],
   "metadata": {
    "collapsed": false
   }
  },
  {
   "cell_type": "code",
   "execution_count": 30,
   "outputs": [],
   "source": [
    "from sklearn.metrics.pairwise import cosine_similarity"
   ],
   "metadata": {
    "collapsed": false
   }
  },
  {
   "cell_type": "code",
   "execution_count": 31,
   "outputs": [],
   "source": [
    "similarity = cosine_similarity(ratings_mat[my_index,:], ratings_mat).flatten()"
   ],
   "metadata": {
    "collapsed": false
   }
  },
  {
   "cell_type": "code",
   "execution_count": 32,
   "outputs": [],
   "source": [
    "import numpy as np"
   ],
   "metadata": {
    "collapsed": false
   }
  },
  {
   "cell_type": "code",
   "execution_count": 33,
   "outputs": [],
   "source": [
    "indices = np.argpartition(similarity, -15)[-15:]"
   ],
   "metadata": {
    "collapsed": false
   }
  },
  {
   "cell_type": "code",
   "execution_count": 34,
   "outputs": [
    {
     "data": {
      "text/plain": "array([334, 345, 347, 343, 346, 341, 344, 348, 342, 336, 340, 339, 338,\n       337,   0])"
     },
     "execution_count": 34,
     "metadata": {},
     "output_type": "execute_result"
    }
   ],
   "source": [
    "indices"
   ],
   "metadata": {
    "collapsed": false
   }
  },
  {
   "cell_type": "code",
   "execution_count": 35,
   "outputs": [],
   "source": [
    "similar_users = interactions[interactions['user_index'].isin(indices)].copy()"
   ],
   "metadata": {
    "collapsed": false
   }
  },
  {
   "cell_type": "code",
   "execution_count": 36,
   "outputs": [],
   "source": [
    "similar_users = similar_users[similar_users['user_id'] != '-1']"
   ],
   "metadata": {
    "collapsed": false
   }
  },
  {
   "cell_type": "code",
   "execution_count": 37,
   "outputs": [
    {
     "data": {
      "text/plain": "        user_id  book_id  rating  user_index  book_index\n24642      2111  6936382       4         345          22\n24643      2111  6936382       4         345          22\n24644      2111  6936382       4         345          22\n24645      2111  6936382       5         345          22\n24646      2111  6936382       4         345          22\n...         ...      ...     ...         ...         ...\n2800847  212566  6936382       0         348          22\n2800848  212566  6936382       0         348          22\n2800849  212566  6936382       0         348          22\n2800850  212566  6936382       0         348          22\n2800851  212566  6936382       0         348          22\n\n[37611 rows x 5 columns]",
      "text/html": "<div>\n<style scoped>\n    .dataframe tbody tr th:only-of-type {\n        vertical-align: middle;\n    }\n\n    .dataframe tbody tr th {\n        vertical-align: top;\n    }\n\n    .dataframe thead th {\n        text-align: right;\n    }\n</style>\n<table border=\"1\" class=\"dataframe\">\n  <thead>\n    <tr style=\"text-align: right;\">\n      <th></th>\n      <th>user_id</th>\n      <th>book_id</th>\n      <th>rating</th>\n      <th>user_index</th>\n      <th>book_index</th>\n    </tr>\n  </thead>\n  <tbody>\n    <tr>\n      <th>24642</th>\n      <td>2111</td>\n      <td>6936382</td>\n      <td>4</td>\n      <td>345</td>\n      <td>22</td>\n    </tr>\n    <tr>\n      <th>24643</th>\n      <td>2111</td>\n      <td>6936382</td>\n      <td>4</td>\n      <td>345</td>\n      <td>22</td>\n    </tr>\n    <tr>\n      <th>24644</th>\n      <td>2111</td>\n      <td>6936382</td>\n      <td>4</td>\n      <td>345</td>\n      <td>22</td>\n    </tr>\n    <tr>\n      <th>24645</th>\n      <td>2111</td>\n      <td>6936382</td>\n      <td>5</td>\n      <td>345</td>\n      <td>22</td>\n    </tr>\n    <tr>\n      <th>24646</th>\n      <td>2111</td>\n      <td>6936382</td>\n      <td>4</td>\n      <td>345</td>\n      <td>22</td>\n    </tr>\n    <tr>\n      <th>...</th>\n      <td>...</td>\n      <td>...</td>\n      <td>...</td>\n      <td>...</td>\n      <td>...</td>\n    </tr>\n    <tr>\n      <th>2800847</th>\n      <td>212566</td>\n      <td>6936382</td>\n      <td>0</td>\n      <td>348</td>\n      <td>22</td>\n    </tr>\n    <tr>\n      <th>2800848</th>\n      <td>212566</td>\n      <td>6936382</td>\n      <td>0</td>\n      <td>348</td>\n      <td>22</td>\n    </tr>\n    <tr>\n      <th>2800849</th>\n      <td>212566</td>\n      <td>6936382</td>\n      <td>0</td>\n      <td>348</td>\n      <td>22</td>\n    </tr>\n    <tr>\n      <th>2800850</th>\n      <td>212566</td>\n      <td>6936382</td>\n      <td>0</td>\n      <td>348</td>\n      <td>22</td>\n    </tr>\n    <tr>\n      <th>2800851</th>\n      <td>212566</td>\n      <td>6936382</td>\n      <td>0</td>\n      <td>348</td>\n      <td>22</td>\n    </tr>\n  </tbody>\n</table>\n<p>37611 rows × 5 columns</p>\n</div>"
     },
     "execution_count": 37,
     "metadata": {},
     "output_type": "execute_result"
    }
   ],
   "source": [
    "similar_users"
   ],
   "metadata": {
    "collapsed": false
   }
  },
  {
   "cell_type": "code",
   "execution_count": 38,
   "outputs": [],
   "source": [
    "book_recs = similar_users.groupby(\"book_id\").rating.agg(['count', 'mean'])"
   ],
   "metadata": {
    "collapsed": false
   }
  },
  {
   "cell_type": "code",
   "execution_count": 39,
   "outputs": [
    {
     "data": {
      "text/plain": "         count      mean\nbook_id                 \n6936382  37611  0.737869",
      "text/html": "<div>\n<style scoped>\n    .dataframe tbody tr th:only-of-type {\n        vertical-align: middle;\n    }\n\n    .dataframe tbody tr th {\n        vertical-align: top;\n    }\n\n    .dataframe thead th {\n        text-align: right;\n    }\n</style>\n<table border=\"1\" class=\"dataframe\">\n  <thead>\n    <tr style=\"text-align: right;\">\n      <th></th>\n      <th>count</th>\n      <th>mean</th>\n    </tr>\n    <tr>\n      <th>book_id</th>\n      <th></th>\n      <th></th>\n    </tr>\n  </thead>\n  <tbody>\n    <tr>\n      <th>6936382</th>\n      <td>37611</td>\n      <td>0.737869</td>\n    </tr>\n  </tbody>\n</table>\n</div>"
     },
     "execution_count": 39,
     "metadata": {},
     "output_type": "execute_result"
    }
   ],
   "source": [
    "book_recs"
   ],
   "metadata": {
    "collapsed": false
   }
  },
  {
   "cell_type": "code",
   "execution_count": 40,
   "outputs": [],
   "source": [
    "books_titles = pd.read_json('books_titles.json')\n",
    "books_titles['book_id'] = books_titles['book_id'].astype(str)"
   ],
   "metadata": {
    "collapsed": false
   }
  },
  {
   "cell_type": "code",
   "execution_count": 41,
   "outputs": [],
   "source": [
    "book_recs = book_recs.merge(books_titles, how='inner', on='book_id')"
   ],
   "metadata": {
    "collapsed": false
   }
  },
  {
   "cell_type": "code",
   "execution_count": 42,
   "outputs": [
    {
     "data": {
      "text/plain": "   book_id  count      mean  \\\n0  6936382  37611  0.737869   \n\n                                               title  ratings  \\\n0  Anna and the French Kiss (Anna and the French ...   267364   \n\n                                                 url  \\\n0  https://www.goodreads.com/book/show/6936382-an...   \n\n                                         cover_image  \\\n0  https://images.gr-assets.com/books/1358271931m...   \n\n                                           mod_title  \n0  anna and the french kiss anna and the french k...  ",
      "text/html": "<div>\n<style scoped>\n    .dataframe tbody tr th:only-of-type {\n        vertical-align: middle;\n    }\n\n    .dataframe tbody tr th {\n        vertical-align: top;\n    }\n\n    .dataframe thead th {\n        text-align: right;\n    }\n</style>\n<table border=\"1\" class=\"dataframe\">\n  <thead>\n    <tr style=\"text-align: right;\">\n      <th></th>\n      <th>book_id</th>\n      <th>count</th>\n      <th>mean</th>\n      <th>title</th>\n      <th>ratings</th>\n      <th>url</th>\n      <th>cover_image</th>\n      <th>mod_title</th>\n    </tr>\n  </thead>\n  <tbody>\n    <tr>\n      <th>0</th>\n      <td>6936382</td>\n      <td>37611</td>\n      <td>0.737869</td>\n      <td>Anna and the French Kiss (Anna and the French ...</td>\n      <td>267364</td>\n      <td>https://www.goodreads.com/book/show/6936382-an...</td>\n      <td>https://images.gr-assets.com/books/1358271931m...</td>\n      <td>anna and the french kiss anna and the french k...</td>\n    </tr>\n  </tbody>\n</table>\n</div>"
     },
     "execution_count": 42,
     "metadata": {},
     "output_type": "execute_result"
    }
   ],
   "source": [
    "book_recs"
   ],
   "metadata": {
    "collapsed": false
   }
  },
  {
   "cell_type": "code",
   "execution_count": 43,
   "outputs": [],
   "source": [
    "book_recs['adjusted_count'] = book_recs['count'] * (book_recs['count'] / book_recs['ratings'])"
   ],
   "metadata": {
    "collapsed": false
   }
  },
  {
   "cell_type": "code",
   "execution_count": 44,
   "outputs": [],
   "source": [
    "book_recs['score'] = book_recs['mean'] * book_recs['adjusted_count']"
   ],
   "metadata": {
    "collapsed": false
   }
  },
  {
   "cell_type": "code",
   "execution_count": 45,
   "outputs": [],
   "source": [
    "book_recs = book_recs[~book_recs['book_id'].isin(my_books['book_id'])]"
   ],
   "metadata": {
    "collapsed": false
   }
  },
  {
   "cell_type": "code",
   "execution_count": 46,
   "outputs": [
    {
     "data": {
      "text/plain": "   book_id  count      mean  \\\n0  6936382  37611  0.737869   \n\n                                               title  ratings  \\\n0  Anna and the French Kiss (Anna and the French ...   267364   \n\n                                                 url  \\\n0  https://www.goodreads.com/book/show/6936382-an...   \n\n                                         cover_image  \\\n0  https://images.gr-assets.com/books/1358271931m...   \n\n                                           mod_title  adjusted_count  \\\n0  anna and the french kiss anna and the french k...     5290.866837   \n\n         score  \n0  3903.967894  ",
      "text/html": "<div>\n<style scoped>\n    .dataframe tbody tr th:only-of-type {\n        vertical-align: middle;\n    }\n\n    .dataframe tbody tr th {\n        vertical-align: top;\n    }\n\n    .dataframe thead th {\n        text-align: right;\n    }\n</style>\n<table border=\"1\" class=\"dataframe\">\n  <thead>\n    <tr style=\"text-align: right;\">\n      <th></th>\n      <th>book_id</th>\n      <th>count</th>\n      <th>mean</th>\n      <th>title</th>\n      <th>ratings</th>\n      <th>url</th>\n      <th>cover_image</th>\n      <th>mod_title</th>\n      <th>adjusted_count</th>\n      <th>score</th>\n    </tr>\n  </thead>\n  <tbody>\n    <tr>\n      <th>0</th>\n      <td>6936382</td>\n      <td>37611</td>\n      <td>0.737869</td>\n      <td>Anna and the French Kiss (Anna and the French ...</td>\n      <td>267364</td>\n      <td>https://www.goodreads.com/book/show/6936382-an...</td>\n      <td>https://images.gr-assets.com/books/1358271931m...</td>\n      <td>anna and the french kiss anna and the french k...</td>\n      <td>5290.866837</td>\n      <td>3903.967894</td>\n    </tr>\n  </tbody>\n</table>\n</div>"
     },
     "execution_count": 46,
     "metadata": {},
     "output_type": "execute_result"
    }
   ],
   "source": [
    "book_recs"
   ],
   "metadata": {
    "collapsed": false
   }
  },
  {
   "cell_type": "code",
   "execution_count": 47,
   "outputs": [],
   "source": [
    "my_books['mod_title'] = my_books['title'].str.replace(\"[^a-zA-Z0-9 ]\", \"\", regex=True).str.lower()"
   ],
   "metadata": {
    "collapsed": false
   }
  },
  {
   "cell_type": "code",
   "execution_count": 49,
   "outputs": [],
   "source": [
    "my_books['mod_title'] = my_books['mod_title'].str.replace(\"\\s+\", \" \", regex=True)"
   ],
   "metadata": {
    "collapsed": false
   }
  },
  {
   "cell_type": "code",
   "execution_count": 51,
   "outputs": [],
   "source": [
    "book_recs = book_recs[~book_recs['mod_title'].isin(my_books['mod_title'])]"
   ],
   "metadata": {
    "collapsed": false
   }
  },
  {
   "cell_type": "code",
   "execution_count": 53,
   "outputs": [],
   "source": [
    "book_recs = book_recs[book_recs['count']>2]"
   ],
   "metadata": {
    "collapsed": false
   }
  },
  {
   "cell_type": "code",
   "execution_count": 54,
   "outputs": [],
   "source": [
    "top_recs = book_recs.sort_values('score', ascending=False)"
   ],
   "metadata": {
    "collapsed": false
   }
  },
  {
   "cell_type": "code",
   "execution_count": 55,
   "outputs": [
    {
     "data": {
      "text/plain": "   book_id  count      mean  \\\n0  6936382  37611  0.737869   \n\n                                               title  ratings  \\\n0  Anna and the French Kiss (Anna and the French ...   267364   \n\n                                                 url  \\\n0  https://www.goodreads.com/book/show/6936382-an...   \n\n                                         cover_image  \\\n0  https://images.gr-assets.com/books/1358271931m...   \n\n                                           mod_title  adjusted_count  \\\n0  anna and the french kiss anna and the french k...     5290.866837   \n\n         score  \n0  3903.967894  ",
      "text/html": "<div>\n<style scoped>\n    .dataframe tbody tr th:only-of-type {\n        vertical-align: middle;\n    }\n\n    .dataframe tbody tr th {\n        vertical-align: top;\n    }\n\n    .dataframe thead th {\n        text-align: right;\n    }\n</style>\n<table border=\"1\" class=\"dataframe\">\n  <thead>\n    <tr style=\"text-align: right;\">\n      <th></th>\n      <th>book_id</th>\n      <th>count</th>\n      <th>mean</th>\n      <th>title</th>\n      <th>ratings</th>\n      <th>url</th>\n      <th>cover_image</th>\n      <th>mod_title</th>\n      <th>adjusted_count</th>\n      <th>score</th>\n    </tr>\n  </thead>\n  <tbody>\n    <tr>\n      <th>0</th>\n      <td>6936382</td>\n      <td>37611</td>\n      <td>0.737869</td>\n      <td>Anna and the French Kiss (Anna and the French ...</td>\n      <td>267364</td>\n      <td>https://www.goodreads.com/book/show/6936382-an...</td>\n      <td>https://images.gr-assets.com/books/1358271931m...</td>\n      <td>anna and the french kiss anna and the french k...</td>\n      <td>5290.866837</td>\n      <td>3903.967894</td>\n    </tr>\n  </tbody>\n</table>\n</div>"
     },
     "execution_count": 55,
     "metadata": {},
     "output_type": "execute_result"
    }
   ],
   "source": [
    "top_recs"
   ],
   "metadata": {
    "collapsed": false
   }
  },
  {
   "cell_type": "code",
   "execution_count": 56,
   "outputs": [],
   "source": [
    "def make_clickable(val):\n",
    "    return '<a target=\"_blank\" href=\"{}\">Goodreads</a>'.format(val)\n",
    "\n",
    "def show_image(val):\n",
    "    return '<img src=\"{}\" width=50></img>'.format(val)"
   ],
   "metadata": {
    "collapsed": false
   }
  },
  {
   "cell_type": "code",
   "execution_count": 57,
   "outputs": [
    {
     "data": {
      "text/plain": "<pandas.io.formats.style.Styler at 0x10f76ee30>",
      "text/html": "<style type=\"text/css\">\n</style>\n<table id=\"T_0e3fe\">\n  <thead>\n    <tr>\n      <th class=\"blank level0\" >&nbsp;</th>\n      <th id=\"T_0e3fe_level0_col0\" class=\"col_heading level0 col0\" >book_id</th>\n      <th id=\"T_0e3fe_level0_col1\" class=\"col_heading level0 col1\" >count</th>\n      <th id=\"T_0e3fe_level0_col2\" class=\"col_heading level0 col2\" >mean</th>\n      <th id=\"T_0e3fe_level0_col3\" class=\"col_heading level0 col3\" >title</th>\n      <th id=\"T_0e3fe_level0_col4\" class=\"col_heading level0 col4\" >ratings</th>\n      <th id=\"T_0e3fe_level0_col5\" class=\"col_heading level0 col5\" >url</th>\n      <th id=\"T_0e3fe_level0_col6\" class=\"col_heading level0 col6\" >cover_image</th>\n      <th id=\"T_0e3fe_level0_col7\" class=\"col_heading level0 col7\" >mod_title</th>\n      <th id=\"T_0e3fe_level0_col8\" class=\"col_heading level0 col8\" >adjusted_count</th>\n      <th id=\"T_0e3fe_level0_col9\" class=\"col_heading level0 col9\" >score</th>\n    </tr>\n  </thead>\n  <tbody>\n    <tr>\n      <th id=\"T_0e3fe_level0_row0\" class=\"row_heading level0 row0\" >0</th>\n      <td id=\"T_0e3fe_row0_col0\" class=\"data row0 col0\" >6936382</td>\n      <td id=\"T_0e3fe_row0_col1\" class=\"data row0 col1\" >37611</td>\n      <td id=\"T_0e3fe_row0_col2\" class=\"data row0 col2\" >0.737869</td>\n      <td id=\"T_0e3fe_row0_col3\" class=\"data row0 col3\" >Anna and the French Kiss (Anna and the French Kiss, #1)</td>\n      <td id=\"T_0e3fe_row0_col4\" class=\"data row0 col4\" >267364</td>\n      <td id=\"T_0e3fe_row0_col5\" class=\"data row0 col5\" ><a target=\"_blank\" href=\"https://www.goodreads.com/book/show/6936382-anna-and-the-french-kiss\">Goodreads</a></td>\n      <td id=\"T_0e3fe_row0_col6\" class=\"data row0 col6\" ><img src=\"https://images.gr-assets.com/books/1358271931m/6936382.jpg\" width=50></img></td>\n      <td id=\"T_0e3fe_row0_col7\" class=\"data row0 col7\" >anna and the french kiss anna and the french kiss 1</td>\n      <td id=\"T_0e3fe_row0_col8\" class=\"data row0 col8\" >5290.866837</td>\n      <td id=\"T_0e3fe_row0_col9\" class=\"data row0 col9\" >3903.967894</td>\n    </tr>\n  </tbody>\n</table>\n"
     },
     "execution_count": 57,
     "metadata": {},
     "output_type": "execute_result"
    }
   ],
   "source": [
    "top_recs.style.format({'url': make_clickable, 'cover_image': show_image})"
   ],
   "metadata": {
    "collapsed": false
   }
  },
  {
   "cell_type": "code",
   "execution_count": null,
   "outputs": [],
   "source": [],
   "metadata": {
    "collapsed": false
   }
  }
 ],
 "metadata": {
  "kernelspec": {
   "display_name": "Python 3",
   "language": "python",
   "name": "python3"
  },
  "language_info": {
   "codemirror_mode": {
    "name": "ipython",
    "version": 2
   },
   "file_extension": ".py",
   "mimetype": "text/x-python",
   "name": "python",
   "nbconvert_exporter": "python",
   "pygments_lexer": "ipython2",
   "version": "2.7.6"
  }
 },
 "nbformat": 4,
 "nbformat_minor": 0
}
